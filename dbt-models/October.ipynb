{
 "cells": [
  {
   "cell_type": "markdown",
   "metadata": {},
   "source": [
    "# E-commerce Sample ETL – October\n",
    "\n",
    "This notebook prepares a 100 k-row sample for loading into BigQuery.\n",
    "\n",
    "Pipeline steps:\n",
    "1. Data profiling  \n",
    "2. Schema enforcement & typing  \n",
    "3. Cleaning & imputation  \n",
    "4. De-duplication & filtering  \n",
    "5. Feature engineering & enrichment  \n",
    "6. Validation tests  \n",
    "7. **Export cleaned sample to CSV**"
   ],
   "id": "ace5eb1b3cf3df3b"
  },
  {
   "cell_type": "code",
   "metadata": {
    "ExecuteTime": {
     "end_time": "2025-07-03T11:15:53.175740Z",
     "start_time": "2025-07-03T11:15:53.129504Z"
    }
   },
   "source": [
    "# 0️⃣ Imports & settings\n",
    "import pandas as pd\n",
    "pd.set_option(\"display.max_columns\", 120)\n",
    "\n",
    "INPUT_PATH = \"D:\\Digital_Analytics\\sample_Oct.csv\"\n",
    "CSV_OUT    = \"D:\\Digital_Analytics\\Cleaned data\\Cleaned_Oct.csv\""
   ],
   "id": "d2cd7e8f61b9a84c",
   "outputs": [],
   "execution_count": 4
  },
  {
   "cell_type": "markdown",
   "metadata": {},
   "source": [
    "## 1  Data profiling"
   ],
   "id": "4a34f8a0699d1a28"
  },
  {
   "cell_type": "code",
   "metadata": {
    "ExecuteTime": {
     "end_time": "2025-07-03T11:16:41.277755Z",
     "start_time": "2025-07-03T11:16:38.504807Z"
    }
   },
   "source": [
    "df = pd.read_csv(INPUT_PATH, parse_dates=[\"event_time\"], low_memory=False)\n",
    "print(f\"Rows: {len(df):,}\")\n",
    "df.info()\n",
    "\n",
    "# basic statistics\n",
    "display(df.describe().T)\n",
    "\n",
    "# null counts\n",
    "display(df.isna().sum().sort_values(ascending=False))\n",
    "\n",
    "# cardinality for object/category columns\n",
    "cat_cols = [c for c in df.columns if df[c].dtype == \"object\"]\n",
    "display(pd.Series({c: df[c].nunique() for c in cat_cols}).sort_values(ascending=False))"
   ],
   "id": "e4c0f9cab115d40d",
   "outputs": [
    {
     "name": "stdout",
     "output_type": "stream",
     "text": [
      "Rows: 100,000\n",
      "<class 'pandas.core.frame.DataFrame'>\n",
      "RangeIndex: 100000 entries, 0 to 99999\n",
      "Data columns (total 9 columns):\n",
      " #   Column         Non-Null Count   Dtype              \n",
      "---  ------         --------------   -----              \n",
      " 0   event_time     100000 non-null  datetime64[ns, UTC]\n",
      " 1   event_type     100000 non-null  object             \n",
      " 2   product_id     100000 non-null  int64              \n",
      " 3   category_id    100000 non-null  int64              \n",
      " 4   category_code  67605 non-null   object             \n",
      " 5   brand          85741 non-null   object             \n",
      " 6   price          100000 non-null  float64            \n",
      " 7   user_id        100000 non-null  int64              \n",
      " 8   user_session   100000 non-null  object             \n",
      "dtypes: datetime64[ns, UTC](1), float64(1), int64(3), object(4)\n",
      "memory usage: 6.9+ MB\n"
     ]
    },
    {
     "data": {
      "text/plain": [
       "                count          mean           std           min           25%  \\\n",
       "product_id   100000.0  1.021692e+07  1.110482e+07  1.001588e+06  1.005116e+06   \n",
       "category_id  100000.0  2.056068e+18  1.485811e+16  2.053014e+18  2.053014e+18   \n",
       "price        100000.0  2.870277e+02  3.599017e+02  0.000000e+00  6.152000e+01   \n",
       "user_id      100000.0  5.310936e+08  1.662104e+07  3.064418e+08  5.156360e+08   \n",
       "\n",
       "                      50%           75%           max  \n",
       "product_id   5.100564e+06  1.590011e+07  5.310002e+07  \n",
       "category_id  2.053014e+18  2.053014e+18  2.175420e+18  \n",
       "price        1.544100e+02  3.572500e+02  2.574070e+03  \n",
       "user_id      5.269756e+08  5.477189e+08  5.555060e+08  "
      ],
      "text/html": [
       "<div>\n",
       "<style scoped>\n",
       "    .dataframe tbody tr th:only-of-type {\n",
       "        vertical-align: middle;\n",
       "    }\n",
       "\n",
       "    .dataframe tbody tr th {\n",
       "        vertical-align: top;\n",
       "    }\n",
       "\n",
       "    .dataframe thead th {\n",
       "        text-align: right;\n",
       "    }\n",
       "</style>\n",
       "<table border=\"1\" class=\"dataframe\">\n",
       "  <thead>\n",
       "    <tr style=\"text-align: right;\">\n",
       "      <th></th>\n",
       "      <th>count</th>\n",
       "      <th>mean</th>\n",
       "      <th>std</th>\n",
       "      <th>min</th>\n",
       "      <th>25%</th>\n",
       "      <th>50%</th>\n",
       "      <th>75%</th>\n",
       "      <th>max</th>\n",
       "    </tr>\n",
       "  </thead>\n",
       "  <tbody>\n",
       "    <tr>\n",
       "      <th>product_id</th>\n",
       "      <td>100000.0</td>\n",
       "      <td>1.021692e+07</td>\n",
       "      <td>1.110482e+07</td>\n",
       "      <td>1.001588e+06</td>\n",
       "      <td>1.005116e+06</td>\n",
       "      <td>5.100564e+06</td>\n",
       "      <td>1.590011e+07</td>\n",
       "      <td>5.310002e+07</td>\n",
       "    </tr>\n",
       "    <tr>\n",
       "      <th>category_id</th>\n",
       "      <td>100000.0</td>\n",
       "      <td>2.056068e+18</td>\n",
       "      <td>1.485811e+16</td>\n",
       "      <td>2.053014e+18</td>\n",
       "      <td>2.053014e+18</td>\n",
       "      <td>2.053014e+18</td>\n",
       "      <td>2.053014e+18</td>\n",
       "      <td>2.175420e+18</td>\n",
       "    </tr>\n",
       "    <tr>\n",
       "      <th>price</th>\n",
       "      <td>100000.0</td>\n",
       "      <td>2.870277e+02</td>\n",
       "      <td>3.599017e+02</td>\n",
       "      <td>0.000000e+00</td>\n",
       "      <td>6.152000e+01</td>\n",
       "      <td>1.544100e+02</td>\n",
       "      <td>3.572500e+02</td>\n",
       "      <td>2.574070e+03</td>\n",
       "    </tr>\n",
       "    <tr>\n",
       "      <th>user_id</th>\n",
       "      <td>100000.0</td>\n",
       "      <td>5.310936e+08</td>\n",
       "      <td>1.662104e+07</td>\n",
       "      <td>3.064418e+08</td>\n",
       "      <td>5.156360e+08</td>\n",
       "      <td>5.269756e+08</td>\n",
       "      <td>5.477189e+08</td>\n",
       "      <td>5.555060e+08</td>\n",
       "    </tr>\n",
       "  </tbody>\n",
       "</table>\n",
       "</div>"
      ]
     },
     "metadata": {},
     "output_type": "display_data"
    },
    {
     "data": {
      "text/plain": [
       "category_code    32395\n",
       "brand            14259\n",
       "event_time           0\n",
       "event_type           0\n",
       "product_id           0\n",
       "category_id          0\n",
       "price                0\n",
       "user_id              0\n",
       "user_session         0\n",
       "dtype: int64"
      ]
     },
     "metadata": {},
     "output_type": "display_data"
    },
    {
     "data": {
      "text/plain": [
       "user_session     24984\n",
       "brand             1503\n",
       "category_code      123\n",
       "event_type           3\n",
       "dtype: int64"
      ]
     },
     "metadata": {},
     "output_type": "display_data"
    }
   ],
   "execution_count": 5
  },
  {
   "cell_type": "markdown",
   "metadata": {},
   "source": [
    "## 2  Schema enforcement & typing"
   ],
   "id": "1d0a851d0e76af4e"
  },
  {
   "cell_type": "code",
   "metadata": {
    "ExecuteTime": {
     "end_time": "2025-07-03T11:16:48.948666Z",
     "start_time": "2025-07-03T11:16:48.872737Z"
    }
   },
   "source": [
    "schema = {\n",
    "    \"timestamp\": \"datetime64[ns]\",\n",
    "    \"user_id\"  : \"Int64\",\n",
    "    \"session_id\": \"string\",\n",
    "    \"event_type\": \"category\",\n",
    "    \"product_id\": \"string\",\n",
    "    \"price\"     : \"float64\",\n",
    "    \"quantity\"  : \"Int64\"\n",
    "}\n",
    "\n",
    "df.columns = df.columns.str.lower().str.replace(\" \", \"_\")\n",
    "\n",
    "for col, dtype in schema.items():\n",
    "    if col in df.columns:\n",
    "        df[col] = df[col].astype(dtype)"
   ],
   "id": "b6b8d3030193d580",
   "outputs": [],
   "execution_count": 6
  },
  {
   "cell_type": "markdown",
   "metadata": {},
   "source": [
    "## 3  Cleaning & imputation"
   ],
   "id": "a7e016d565cb52e3"
  },
  {
   "cell_type": "code",
   "metadata": {
    "ExecuteTime": {
     "end_time": "2025-07-03T11:16:55.005613Z",
     "start_time": "2025-07-03T11:16:54.838508Z"
    }
   },
   "source": [
    "# drop exact duplicates\n",
    "df = df.drop_duplicates()\n",
    "\n",
    "# handle missing values (drop if <5 %, else fill)\n",
    "threshold = 0.05 * len(df)\n",
    "for col in df.columns:\n",
    "    n_missing = df[col].isna().sum()\n",
    "    if n_missing == 0:\n",
    "        continue\n",
    "    if n_missing < threshold:\n",
    "        df = df[df[col].notna()]\n",
    "    else:\n",
    "        if pd.api.types.is_numeric_dtype(df[col]):\n",
    "            df[col] = df[col].fillna(0)\n",
    "        else:\n",
    "            df[col] = df[col].fillna(\"unknown\")"
   ],
   "id": "25341a7bbde433e8",
   "outputs": [],
   "execution_count": 7
  },
  {
   "cell_type": "markdown",
   "metadata": {},
   "source": [
    "## 4  De-duplication & filtering"
   ],
   "id": "1fae5e267aca0ce7"
  },
  {
   "cell_type": "code",
   "metadata": {
    "ExecuteTime": {
     "end_time": "2025-07-03T11:17:00.875345Z",
     "start_time": "2025-07-03T11:17:00.812886Z"
    }
   },
   "source": [
    "# business-rule example: keep last event per session\n",
    "if \"session_id\" in df.columns:\n",
    "    df = df.sort_values(\"timestamp\").drop_duplicates(\"session_id\", keep=\"last\")\n",
    "\n",
    "# logical filters\n",
    "if \"price\" in df.columns:\n",
    "    df = df[df[\"price\"] >= 0]\n",
    "if \"quantity\" in df.columns:\n",
    "    df = df[df[\"quantity\"] >= 0]"
   ],
   "id": "f2791f7c4e0162ed",
   "outputs": [],
   "execution_count": 8
  },
  {
   "cell_type": "markdown",
   "metadata": {},
   "source": [
    "## 5  Feature engineering & enrichment"
   ],
   "id": "44848c60a2697a53"
  },
  {
   "cell_type": "code",
   "metadata": {
    "ExecuteTime": {
     "end_time": "2025-07-03T11:17:34.737046Z",
     "start_time": "2025-07-03T11:17:34.687816Z"
    }
   },
   "source": [
    "if \"event_type\" in df.columns:\n",
    "    df[\"is_purchase\"] = df[\"event_type\"] == \"purchase\"\n",
    "\n",
    "df[\"hour_of_day\"] = df[\"event_time\"].dt.hour\n",
    "df[\"day_of_week\"] = df[\"event_time\"].dt.dayofweek\n",
    "df[\"is_weekend\"]  = df[\"day_of_week\"].isin([5, 6])\n",
    "\n",
    "# optional: session duration\n",
    "if \"session_id\" in df.columns:\n",
    "    span = (\n",
    "        df.groupby(\"session_id\")[\"timestamp\"]\n",
    "          .agg([\"min\", \"max\"])\n",
    "          .assign(duration_s=lambda x: (x[\"max\"] - x[\"min\"]).dt.total_seconds())\n",
    "    )\n",
    "    df = df.merge(span[\"duration_s\"], left_on=\"session_id\", right_index=True, how=\"left\")"
   ],
   "id": "1bab7a7b7a103188",
   "outputs": [],
   "execution_count": 10
  },
  {
   "cell_type": "markdown",
   "metadata": {},
   "source": [
    "## 6  Validation tests"
   ],
   "id": "c1556c67895a08b7"
  },
  {
   "cell_type": "code",
   "metadata": {
    "ExecuteTime": {
     "end_time": "2025-07-03T11:19:32.012433Z",
     "start_time": "2025-07-03T11:19:31.990655Z"
    }
   },
   "source": [
    "assert df[\"price\"].min() >= 0, \"Negative prices detected\"\n",
    "if 'quantity' in df.columns:\n",
    "    assert df['quantity'].min() >= 0, \"Negative quantities detected!\"\n",
    "if \"duration_s\" in df.columns:\n",
    "    assert (df[\"duration_s\"] >= 0).all(), \"Negative session durations\"\n",
    "\n",
    "print(\"✅ All validation checks passed.\")"
   ],
   "id": "3d89083c815c3457",
   "outputs": [
    {
     "name": "stdout",
     "output_type": "stream",
     "text": [
      "✅ All validation checks passed.\n"
     ]
    }
   ],
   "execution_count": 11
  },
  {
   "cell_type": "markdown",
   "metadata": {},
   "source": [
    "## 7  Export cleaned sample to **CSV**"
   ],
   "id": "4b8729c3fa078bf3"
  },
  {
   "cell_type": "code",
   "metadata": {
    "ExecuteTime": {
     "end_time": "2025-07-03T11:19:37.934229Z",
     "start_time": "2025-07-03T11:19:36.378491Z"
    }
   },
   "source": [
    "df.to_csv(CSV_OUT, index=False)\n",
    "print(f\"Saved → {CSV_OUT}\")"
   ],
   "id": "91a260d3b4209fef",
   "outputs": [
    {
     "name": "stdout",
     "output_type": "stream",
     "text": [
      "Saved → D:\\Digital_Analytics\\Cleaned data\\Cleaned_Oct.csv\n"
     ]
    }
   ],
   "execution_count": 12
  },
  {
   "metadata": {
    "ExecuteTime": {
     "end_time": "2025-07-03T16:00:17.960009Z",
     "start_time": "2025-07-03T16:00:14.564938Z"
    }
   },
   "cell_type": "code",
   "source": [
    "import pandas as pd\n",
    "import matplotlib.pyplot as plt\n",
    "\n",
    "# 0️⃣ Load cleaned sample data (adjust path if necessary)\n",
    "INPUT_PATH = 'D:\\Digital_Analytics\\sample_Oct.csv'\n",
    "df = pd.read_csv(INPUT_PATH, parse_dates=['event_time'])\n",
    "\n",
    "# 1️⃣ Event Type Distribution\n",
    "event_counts = df['event_type'].value_counts()\n",
    "plt.figure()\n",
    "plt.bar(event_counts.index.astype(str), event_counts.values)\n",
    "plt.title('Event Type Distribution')\n",
    "plt.xlabel('Event Type')\n",
    "plt.ylabel('Count')\n",
    "plt.tight_layout()\n",
    "plt.show()\n",
    "\n",
    "# 2️⃣ Event Count by Hour of Day\n",
    "hours = df['event_time'].dt.hour\n",
    "hour_counts = hours.value_counts().sort_index()\n",
    "plt.figure()\n",
    "plt.bar(hour_counts.index, hour_counts.values)\n",
    "plt.title('Event Count by Hour of Day')\n",
    "plt.xlabel('Hour')\n",
    "plt.ylabel('Count')\n",
    "plt.tight_layout()\n",
    "plt.show()\n",
    "\n",
    "# 3️⃣ Price Distribution\n",
    "plt.figure()\n",
    "plt.hist(df['price'].dropna(), bins=30)\n",
    "plt.title('Price Distribution')\n",
    "plt.xlabel('Price')\n",
    "plt.ylabel('Frequency')\n",
    "plt.tight_layout()\n",
    "plt.show()\n",
    "\n",
    "# 5️⃣ Session Duration Distribution\n",
    "session_span = df.groupby('user_session')['event_time'].agg(['min', 'max'])\n",
    "session_span['duration_s'] = (session_span['max'] - session_span['min']).dt.total_seconds()\n",
    "plt.figure()\n",
    "plt.hist(session_span['duration_s'].dropna(), bins=30)\n",
    "plt.title('Session Duration Distribution')\n",
    "plt.xlabel('Duration (seconds)')\n",
    "plt.ylabel('Frequency')\n",
    "plt.tight_layout()\n",
    "plt.show()\n"
   ],
   "id": "52be9a1e361f8404",
   "outputs": [
    {
     "data": {
      "text/plain": [
       "<Figure size 640x480 with 1 Axes>"
      ],
      "image/png": "[encoded data removed]"
     },
     "metadata": {},
     "output_type": "display_data"
    },
    {
     "data": {
      "text/plain": [
       "<Figure size 640x480 with 1 Axes>"
      ],
      "image/png": "[encoded data removed]"
     },
     "metadata": {},
     "output_type": "display_data"
    },
    {
     "data": {
      "text/plain": [
       "<Figure size 640x480 with 1 Axes>"
      ],
      "image/png": "[encoded data removed]"
     },
     "metadata": {},
     "output_type": "display_data"
    },
    {
     "data": {
      "text/plain": [
       "<Figure size 640x480 with 1 Axes>"
      ],
      "image/png": "[encoded data removed]"
     },
     "metadata": {},
     "output_type": "display_data"
    }
   ],
   "execution_count": 14
  }
 ],
 "metadata": {
  "kernelspec": {
   "display_name": "Python 3",
   "language": "python",
   "name": "python3"
  },
  "language_info": {
   "name": "python",
   "version": "3.10"
  }
 },
 "nbformat": 4,
 "nbformat_minor": 5
}
